{
 "cells": [
  {
   "cell_type": "code",
   "execution_count": 15,
   "metadata": {},
   "outputs": [],
   "source": [
    "from sqlalchemy import create_engine\n",
    "from sqlalchemy import Column, Integer, String, Float\n",
    "\n",
    "from sqlalchemy.ext.declarative import declarative_base\n",
    "Base = declarative_base()\n",
    "\n",
    "# PyMySQL \n",
    "import pymysql\n",
    "pymysql.install_as_MySQLdb()"
   ]
  },
  {
   "cell_type": "code",
   "execution_count": 16,
   "metadata": {},
   "outputs": [],
   "source": [
    "class BaseballPlayer(Base):\n",
    "  __tablename__ = \"player\"\n",
    "  player_id = Column(String(25), primary_key=True)\n",
    "  birth_year = Column(Integer)\n",
    "  birth_month = Column(Integer)\n",
    "  birth_day = Column(Integer)\n",
    "  birth_country = Column(String(25))\n",
    "  birth_state = Column(String(25))\n",
    "  birth_city = Column(String(25))\n",
    "  name_first = Column(String(25))\n",
    "  name_last = Column(String(25))\n",
    "  name_given = Column(String(25))\n",
    "  weight = Column(Integer)\n",
    "  height = Column(Integer)\n",
    "  bats = Column(String(25))\n",
    "  throws = Column(String(25))\n",
    "  debut = Column(String(25))\n",
    "  final_game = Column(String(25))"
   ]
  },
  {
   "cell_type": "code",
   "execution_count": 17,
   "metadata": {},
   "outputs": [],
   "source": [
    "# Create Database Connection\n",
    "engine = create_engine('sqlite:///../Resources/database.sqlite')\n",
    "#engine = create_engine(\"mysql://root@localhost/icecream_db\")\n",
    "Base.metadata.create_all(engine)"
   ]
  },
  {
   "cell_type": "code",
   "execution_count": 18,
   "metadata": {},
   "outputs": [],
   "source": [
    "from sqlalchemy.orm import Session\n",
    "session = Session(bind=engine)"
   ]
  },
  {
   "cell_type": "code",
   "execution_count": 19,
   "metadata": {},
   "outputs": [
    {
     "name": "stdout",
     "output_type": "stream",
     "text": [
      "David Allan\n",
      "Henry Louis\n",
      "Tommie Lee\n",
      "Donald William\n",
      "Fausto Andres\n",
      "Fernando Antonio\n",
      "John W.\n",
      "Edward James\n",
      "Bert Wood\n",
      "Charles S.\n"
     ]
    }
   ],
   "source": [
    "# Print all of the player names in the database\n",
    "players = session.query(BaseballPlayer)\n",
    "for player in players[:10]:\n",
    "  print(player.name_given)"
   ]
  },
  {
   "cell_type": "code",
   "execution_count": 20,
   "metadata": {},
   "outputs": [
    {
     "name": "stdout",
     "output_type": "stream",
     "text": [
      "There are 16504 players from the USA\n"
     ]
    }
   ],
   "source": [
    "# Find the number of players from the USA\n",
    "usa = session.query(BaseballPlayer).\\\n",
    "    filter(BaseballPlayer.birth_country == 'USA').count()\n",
    "print(\"There are {} players from the USA\".format(usa))"
   ]
  },
  {
   "cell_type": "code",
   "execution_count": 21,
   "metadata": {},
   "outputs": [
    {
     "name": "stdout",
     "output_type": "stream",
     "text": [
      "18335 players were born before 1990\n"
     ]
    }
   ],
   "source": [
    "# Find those players who were born before 1990\n",
    "born_before_1990 = session.query(BaseballPlayer).\\\n",
    "    filter(BaseballPlayer.birth_year < 1990).count()\n",
    "    \n",
    "print(\"{} players were born before 1990\".format(born_before_1990))"
   ]
  },
  {
   "cell_type": "code",
   "execution_count": 22,
   "metadata": {},
   "outputs": [
    {
     "name": "stdout",
     "output_type": "stream",
     "text": [
      "300 USA players were born after 1989\n"
     ]
    }
   ],
   "source": [
    "# Find those players from the USA who were born after 1989\n",
    "born_after_1989 = session.query(BaseballPlayer).\\\n",
    "    filter(BaseballPlayer.birth_year > 1989).filter(BaseballPlayer.birth_country == \"USA\").\\\n",
    "    count()\n",
    "print(\"{} USA players were born after 1989\".format(born_after_1989))"
   ]
  },
  {
   "cell_type": "code",
   "execution_count": 24,
   "metadata": {},
   "outputs": [
    {
     "ename": "AttributeError",
     "evalue": "'function' object has no attribute 'filter'",
     "output_type": "error",
     "traceback": [
      "\u001b[1;31m---------------------------------------------------------------------------\u001b[0m",
      "\u001b[1;31mAttributeError\u001b[0m                            Traceback (most recent call last)",
      "\u001b[1;32m<ipython-input-24-3331ded99789>\u001b[0m in \u001b[0;36m<module>\u001b[1;34m\u001b[0m\n\u001b[0;32m      1\u001b[0m \u001b[1;31m# EQUAL CONDITION\u001b[0m\u001b[1;33m\u001b[0m\u001b[1;33m\u001b[0m\u001b[1;33m\u001b[0m\u001b[0m\n\u001b[1;32m----> 2\u001b[1;33m \u001b[0msession\u001b[0m\u001b[1;33m.\u001b[0m\u001b[0mquery\u001b[0m\u001b[1;33m.\u001b[0m\u001b[0mfilter\u001b[0m\u001b[1;33m(\u001b[0m\u001b[0mTable\u001b[0m\u001b[1;33m.\u001b[0m\u001b[0mcolumn_name\u001b[0m \u001b[1;33m==\u001b[0m \u001b[1;34m'value'\u001b[0m\u001b[1;33m)\u001b[0m\u001b[1;33m\u001b[0m\u001b[1;33m\u001b[0m\u001b[0m\n\u001b[0m\u001b[0;32m      3\u001b[0m \u001b[1;31m# NOT EQUAL\u001b[0m\u001b[1;33m\u001b[0m\u001b[1;33m\u001b[0m\u001b[1;33m\u001b[0m\u001b[0m\n\u001b[0;32m      4\u001b[0m \u001b[0mquery\u001b[0m\u001b[1;33m.\u001b[0m\u001b[0mfilter\u001b[0m\u001b[1;33m(\u001b[0m\u001b[0mTable\u001b[0m\u001b[1;33m.\u001b[0m\u001b[0mcolumn_name\u001b[0m \u001b[1;33m!=\u001b[0m \u001b[1;34m'value'\u001b[0m\u001b[1;33m)\u001b[0m\u001b[1;33m\u001b[0m\u001b[1;33m\u001b[0m\u001b[0m\n\u001b[0;32m      5\u001b[0m \u001b[1;31m# Like\u001b[0m\u001b[1;33m\u001b[0m\u001b[1;33m\u001b[0m\u001b[1;33m\u001b[0m\u001b[0m\n",
      "\u001b[1;31mAttributeError\u001b[0m: 'function' object has no attribute 'filter'"
     ]
    }
   ],
   "source": [
    "# EQUAL CONDITION\n",
    "query.filter(Table.column_name == 'value')\n",
    "# NOT EQUAL\n",
    "query.filter(Table.column_name != 'value')\n",
    "# Like\n",
    "query.filter(Table.column_name.like('%value%'))\n",
    "# IN\n",
    "query.filter(Table.column_name.in_(['value1', 'value2', 'value3']))\n",
    "# IN WITH subquery :\n",
    "query.filter(Table.column_name.in_(session.query(Table.column_name).filter(Table.column_name.like('%value%'))))\n",
    "# NOT IN\n",
    "query.filter(~Table.column_name.in_(['value1', 'value2', 'value3']))\n",
    "# CHECK FOR NULLS\n",
    "query.filter(Table.column_name == None)\n",
    "# CHECK FOR NOT NULLS\n",
    "query.filter(Table.column_name != None)\n",
    "\n",
    "# FOR AND CONDITION YOU HAVE TO IMPORT TEH REQUIRED MODULE\n",
    "from sqlalchemy import and_\n",
    "filter(and_(Table.column_name == 'value1', Table.column_name == 'value2'))\n",
    "\n",
    "#also providing a comma separated values is equivalent to AND condition\n",
    "filter(Table.column_name == 'value1', Table.column_name == 'value2')\n",
    "\n",
    "#also we can call filter/filter_by multiple times\n",
    "filter(Table.column_name == 'value1').filter(Table.column_name == 'value2')\n",
    "\n",
    "# SIMILARLY FOR OR WE HAVE TO IMPORT THE ADDITIONAL MODULE\n",
    "from sqlalchemy import or_\n",
    "filter(or_(Table.column_name == 'value1', Table.column_name == 'value2'))"
   ]
  },
  {
   "cell_type": "code",
   "execution_count": null,
   "metadata": {},
   "outputs": [],
   "source": []
  }
 ],
 "metadata": {
  "kernelspec": {
   "display_name": "Python 3",
   "language": "python",
   "name": "python3"
  },
  "language_info": {
   "codemirror_mode": {
    "name": "ipython",
    "version": 3
   },
   "file_extension": ".py",
   "mimetype": "text/x-python",
   "name": "python",
   "nbconvert_exporter": "python",
   "pygments_lexer": "ipython3",
   "version": "3.6.7"
  },
  "varInspector": {
   "cols": {
    "lenName": 16,
    "lenType": 16,
    "lenVar": 40
   },
   "kernels_config": {
    "python": {
     "delete_cmd_postfix": "",
     "delete_cmd_prefix": "del ",
     "library": "var_list.py",
     "varRefreshCmd": "print(var_dic_list())"
    },
    "r": {
     "delete_cmd_postfix": ") ",
     "delete_cmd_prefix": "rm(",
     "library": "var_list.r",
     "varRefreshCmd": "cat(var_dic_list()) "
    }
   },
   "types_to_exclude": [
    "module",
    "function",
    "builtin_function_or_method",
    "instance",
    "_Feature"
   ],
   "window_display": false
  }
 },
 "nbformat": 4,
 "nbformat_minor": 2
}
